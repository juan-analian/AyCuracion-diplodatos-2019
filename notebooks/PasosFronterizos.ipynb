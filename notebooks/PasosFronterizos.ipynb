{
 "cells": [
  {
   "cell_type": "markdown",
   "metadata": {},
   "source": [
    "# Práctico 2 - Pasos fronterizos"
   ]
  },
  {
   "cell_type": "code",
   "execution_count": 16,
   "metadata": {},
   "outputs": [],
   "source": [
    "import sys\n",
    "in_colab = 'google.colab' in sys.modules\n",
    "\n",
    "if in_colab:\n",
    "  BASE_DIR = \"https://github.com/DiploDatos/AnalisisYCuracion/raw/master/\"\n",
    "else:\n",
    "  BASE_DIR = \"..\""
   ]
  },
  {
   "cell_type": "code",
   "execution_count": 17,
   "metadata": {},
   "outputs": [],
   "source": [
    "%matplotlib inline\n",
    "from matplotlib import pyplot as plt\n",
    "import pandas as pd\n",
    "import numpy as np\n",
    "import seaborn as sns"
   ]
  },
  {
   "cell_type": "markdown",
   "metadata": {},
   "source": [
    "### Lectura de JSON"
   ]
  },
  {
   "cell_type": "code",
   "execution_count": 18,
   "metadata": {},
   "outputs": [
    {
     "data": {
      "text/html": [
       "<div>\n",
       "<style scoped>\n",
       "    .dataframe tbody tr th:only-of-type {\n",
       "        vertical-align: middle;\n",
       "    }\n",
       "\n",
       "    .dataframe tbody tr th {\n",
       "        vertical-align: top;\n",
       "    }\n",
       "\n",
       "    .dataframe thead th {\n",
       "        text-align: right;\n",
       "    }\n",
       "</style>\n",
       "<table border=\"1\" class=\"dataframe\">\n",
       "  <thead>\n",
       "    <tr style=\"text-align: right;\">\n",
       "      <th></th>\n",
       "      <th>location</th>\n",
       "      <th>name</th>\n",
       "      <th>province</th>\n",
       "    </tr>\n",
       "  </thead>\n",
       "  <tbody>\n",
       "    <tr>\n",
       "      <th>0</th>\n",
       "      <td>[-54.832543, -68.3712885]</td>\n",
       "      <td>SAN SEBASTIAN  ( USHUAIA )</td>\n",
       "      <td>Tierra del Fuego</td>\n",
       "    </tr>\n",
       "    <tr>\n",
       "      <th>1</th>\n",
       "      <td>[-54.8249379, -68.3258626]</td>\n",
       "      <td>AERO PUBLICO DE USHUAIA</td>\n",
       "      <td>Tierra del Fuego</td>\n",
       "    </tr>\n",
       "  </tbody>\n",
       "</table>\n",
       "</div>"
      ],
      "text/plain": [
       "                     location                        name          province\n",
       "0   [-54.832543, -68.3712885]  SAN SEBASTIAN  ( USHUAIA )  Tierra del Fuego\n",
       "1  [-54.8249379, -68.3258626]     AERO PUBLICO DE USHUAIA  Tierra del Fuego"
      ]
     },
     "execution_count": 18,
     "metadata": {},
     "output_type": "execute_result"
    }
   ],
   "source": [
    "tabla_2 = pd.read_json(BASE_DIR + \"/input/pasos.json\")\n",
    "tabla_2.head(2)"
   ]
  },
  {
   "cell_type": "markdown",
   "metadata": {},
   "source": [
    "### Listamos las provincias (para ver sus valores)"
   ]
  },
  {
   "cell_type": "code",
   "execution_count": 19,
   "metadata": {},
   "outputs": [
    {
     "name": "stdout",
     "output_type": "stream",
     "text": [
      "AEROPUERTO INTERNACIONAL PILOTO CIVIL NORBERTO FERNANDEZ\n",
      "Buenos Aires\n",
      "Catamarca\n",
      "Chaco\n",
      "Chubut\n",
      "Cordoba\n",
      "Corrientes\n",
      "Córdoba\n",
      "Entre Rios\n",
      "Formosa\n",
      "Jujuy\n",
      "La Rioja\n",
      "Mendoza\n",
      "Misiones\n",
      "NEUQUEN\n",
      "Neuquen\n",
      "Rio Negro\n",
      "Salta\n",
      "San Juan\n",
      "San Luis\n",
      "Santa Cruz\n",
      "Santa Fe\n",
      "Santiago del Estero\n",
      "Tierra del Fuego\n",
      "Tucuman\n"
     ]
    }
   ],
   "source": [
    "lista = tabla_2.province.unique() \n",
    "for p in sorted(lista):\n",
    "    print(p)"
   ]
  },
  {
   "cell_type": "markdown",
   "metadata": {},
   "source": [
    "### Corrección de datos\n",
    "Corregimos Neuquen (duplicado), cambiamos el nombre del aeropuerto por su provicina y corregimos los 2 valores diferentes para Córdoba."
   ]
  },
  {
   "cell_type": "code",
   "execution_count": 20,
   "metadata": {},
   "outputs": [],
   "source": [
    "tabla_2[tabla_2.province == 'NEUQUEN'] = 'Neuquen'\n",
    "tabla_2[tabla_2.province == 'Cordoba'] = 'Córdoba'\n",
    "tabla_2[tabla_2.province == 'AEROPUERTO INTERNACIONAL PILOTO CIVIL NORBERTO FERNANDEZ'] = \"Santa Cruz\""
   ]
  },
  {
   "cell_type": "code",
   "execution_count": 21,
   "metadata": {},
   "outputs": [
    {
     "data": {
      "text/plain": [
       "Buenos Aires           48\n",
       "Misiones               38\n",
       "Santa Cruz             21\n",
       "Corrientes             15\n",
       "Chubut                 15\n",
       "Mendoza                14\n",
       "Entre Rios             13\n",
       "Neuquen                11\n",
       "Formosa                11\n",
       "Santa Fe               11\n",
       "Tierra del Fuego        9\n",
       "Jujuy                   8\n",
       "Rio Negro               8\n",
       "San Juan                5\n",
       "Santiago del Estero     4\n",
       "Salta                   4\n",
       "Córdoba                 4\n",
       "Chaco                   3\n",
       "La Rioja                3\n",
       "Catamarca               3\n",
       "Tucuman                 2\n",
       "San Luis                2\n",
       "Name: province, dtype: int64"
      ]
     },
     "execution_count": 21,
     "metadata": {},
     "output_type": "execute_result"
    }
   ],
   "source": [
    "#Control de los datos\n",
    "tabla_2['province'].value_counts()"
   ]
  },
  {
   "cell_type": "code",
   "execution_count": 22,
   "metadata": {},
   "outputs": [
    {
     "data": {
      "text/plain": [
       "(array([ 0,  1,  2,  3,  4,  5,  6,  7,  8,  9, 10, 11, 12, 13, 14, 15, 16,\n",
       "        17, 18, 19, 20, 21]), <a list of 22 Text xticklabel objects>)"
      ]
     },
     "execution_count": 22,
     "metadata": {},
     "output_type": "execute_result"
    },
    {
     "data": {
      "image/png": "[encoded data removed]",
      "text/plain": [
       "<Figure size 720x432 with 1 Axes>"
      ]
     },
     "metadata": {
      "needs_background": "light"
     },
     "output_type": "display_data"
    }
   ],
   "source": [
    "plt.figure(figsize=(10,6))\n",
    "ax = sns.countplot(data=tabla_2, x='province', order = tabla_2.province.value_counts().index)\n",
    "ax.grid(axis='y')\n",
    "plt.title(\"Cantidad de pasos fronterizos por provincia\")\n",
    "plt.ylabel(\"Cantidad\")\n",
    "plt.xlabel(\"Provincia\")\n",
    "sns.despine()\n",
    "plt.xticks(rotation=90)"
   ]
  },
  {
   "cell_type": "code",
   "execution_count": null,
   "metadata": {},
   "outputs": [],
   "source": []
  }
 ],
 "metadata": {
  "kernelspec": {
   "display_name": "Python 3",
   "language": "python",
   "name": "python3"
  },
  "language_info": {
   "codemirror_mode": {
    "name": "ipython",
    "version": 3
   },
   "file_extension": ".py",
   "mimetype": "text/x-python",
   "name": "python",
   "nbconvert_exporter": "python",
   "pygments_lexer": "ipython3",
   "version": "3.7.3"
  }
 },
 "nbformat": 4,
 "nbformat_minor": 2
}
